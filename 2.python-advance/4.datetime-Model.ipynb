{
 "cells": [
  {
   "cell_type": "markdown",
   "metadata": {
    "collapsed": true,
    "pycharm": {
     "name": "#%% md\n"
    }
   },
   "source": [
    "# datetime model"
   ]
  },
  {
   "cell_type": "code",
   "execution_count": 3,
   "outputs": [],
   "source": [
    "import datetime as dt"
   ],
   "metadata": {
    "collapsed": false,
    "pycharm": {
     "name": "#%%\n",
     "is_executing": false
    }
   }
  },
  {
   "cell_type": "markdown",
   "source": [
    "## date Obj\n",
    "you can use ```date(year,month,day)``` create a date obj"
   ],
   "metadata": {
    "collapsed": false,
    "pycharm": {
     "name": "#%% md\n"
    }
   }
  },
  {
   "cell_type": "code",
   "execution_count": 4,
   "outputs": [],
   "source": [
    "d1 = dt.date(2019,12,30)\n",
    "\n"
   ],
   "metadata": {
    "collapsed": false,
    "pycharm": {
     "name": "#%%\n",
     "is_executing": false
    }
   }
  },
  {
   "cell_type": "code",
   "execution_count": 8,
   "outputs": [
    {
     "name": "stdout",
     "text": [
      "2019-12-30\nMonday,12/30/19\nMon,12/30/19\n"
     ],
     "output_type": "stream"
    }
   ],
   "source": [
    "print(d1)\n",
    "print(d1.strftime('%A,%m/%d/%y'))\n",
    "print(d1.strftime('%a,%m/%d/%y'))"
   ],
   "metadata": {
    "collapsed": false,
    "pycharm": {
     "name": "#%%\n",
     "is_executing": false
    }
   }
  },
  {
   "cell_type": "markdown",
   "source": [
    "### check two dates length"
   ],
   "metadata": {
    "collapsed": false,
    "pycharm": {
     "name": "#%% md\n"
    }
   }
  },
  {
   "cell_type": "code",
   "execution_count": 9,
   "outputs": [
    {
     "name": "stdout",
     "text": [
      "27 days, 0:00:00\n"
     ],
     "output_type": "stream"
    }
   ],
   "source": [
    "d2 = dt.date(2019,12,3)\n",
    "print(d1-d2)\n",
    "\n"
   ],
   "metadata": {
    "collapsed": false,
    "pycharm": {
     "name": "#%%\n",
     "is_executing": false
    }
   }
  },
  {
   "cell_type": "markdown",
   "source": [
    "### check today"
   ],
   "metadata": {
    "collapsed": false,
    "pycharm": {
     "name": "#%% md\n"
    }
   }
  },
  {
   "cell_type": "code",
   "execution_count": 10,
   "outputs": [
    {
     "name": "stdout",
     "text": [
      "2020-03-11\n"
     ],
     "output_type": "stream"
    }
   ],
   "source": [
    "print(dt.date.today())\n",
    "\n",
    "\n"
   ],
   "metadata": {
    "collapsed": false,
    "pycharm": {
     "name": "#%%\n",
     "is_executing": false
    }
   }
  },
  {
   "cell_type": "markdown",
   "source": [
    "## time obj\n",
    "you can use ```time(hour,min,sec,us)``` to create a time obj"
   ],
   "metadata": {
    "collapsed": false,
    "pycharm": {
     "name": "#%% md\n"
    }
   }
  },
  {
   "cell_type": "code",
   "execution_count": 14,
   "outputs": [
    {
     "name": "stdout",
     "text": [
      "15:38:23\n03:38,PM\n15:38:23,PM\n"
     ],
     "output_type": "stream"
    }
   ],
   "source": [
    "t1 = dt.time(15,38,23)\n",
    "\n",
    "print(t1)\n",
    "print(t1.strftime('%I:%M,%p'))\n",
    "print(t1.strftime('%H:%M:%S,%p'))"
   ],
   "metadata": {
    "collapsed": false,
    "pycharm": {
     "name": "#%%\n",
     "is_executing": false
    }
   }
  },
  {
   "cell_type": "markdown",
   "source": [
    "## datetime obj\n",
    "you can use ```datetime(year,month,day,hour,min,sec,us)``` to create a time obj"
   ],
   "metadata": {
    "collapsed": false,
    "pycharm": {
     "name": "#%% md\n"
    }
   }
  },
  {
   "cell_type": "code",
   "execution_count": 15,
   "outputs": [
    {
     "name": "stdout",
     "text": [
      "2020-03-11 21:15:12.565434\n"
     ],
     "output_type": "stream"
    }
   ],
   "source": [
    "d1 = dt.datetime.now()\n",
    "print(d1)\n",
    "\n"
   ],
   "metadata": {
    "collapsed": false,
    "pycharm": {
     "name": "#%%\n",
     "is_executing": false
    }
   }
  },
  {
   "cell_type": "markdown",
   "source": [
    "## datetime 格式字符表\n",
    "字符 | 含义\n",
    "--- | ---\n",
    "%a\t| 星期英文缩写\n",
    "%A\t| 星期英文\n",
    "%w\t| 一星期的第几天，[0(sun),6]\n",
    "%b\t| 月份英文缩写\n",
    "%B\t| 月份英文\n",
    "%d\t| 日期，[01,31]\n",
    "%H\t| 小时，[00,23]\n",
    "%I\t| 小时，[01,12]\n",
    "%j\t| 一年的第几天，[001,366]\n",
    "%m\t| 月份，[01,12]\n",
    "%M\t| 分钟，[00,59]\n",
    "%p\t| AM 和 PM\n",
    "%S\t| 秒钟，[00,61] （大概是有闰秒的存在）\n",
    "%U\t| 一年中的第几个星期，星期日为第一天，[00,53]\n",
    "%W\t| 一年中的第几个星期，星期一为第一天，[00,53]\n",
    "%y\t| 没有世纪的年份\n",
    "%Y\t| 完整的年份\n",
    "\n",
    "\n"
   ],
   "metadata": {
    "collapsed": false,
    "pycharm": {
     "name": "#%% md\n"
    }
   }
  }
 ],
 "metadata": {
  "kernelspec": {
   "display_name": "Python 3",
   "language": "python",
   "name": "python3"
  },
  "language_info": {
   "codemirror_mode": {
    "name": "ipython",
    "version": 2
   },
   "file_extension": ".py",
   "mimetype": "text/x-python",
   "name": "python",
   "nbconvert_exporter": "python",
   "pygments_lexer": "ipython2",
   "version": "2.7.6"
  },
  "pycharm": {
   "stem_cell": {
    "cell_type": "raw",
    "source": [],
    "metadata": {
     "collapsed": false
    }
   }
  }
 },
 "nbformat": 4,
 "nbformat_minor": 0
}