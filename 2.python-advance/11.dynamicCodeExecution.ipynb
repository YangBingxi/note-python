{
 "cells": [
  {
   "cell_type": "markdown",
   "metadata": {},
   "source": [
    "# 动态编译\n",
    "## 标准编程语言\n",
    "对于 C 语言，代码一般要先编译，再执行。\n",
    "\n",
    "```.c -> .exe```\n",
    "## 解释器语言\n",
    "```shell 脚本\n",
    "\n",
    ".sh -> interpreter\n",
    "```\n",
    "## Byte Code 编译\n",
    "Python, Java 等语言先将代码编译为 byte code（不是机器码），然后再处理：\n",
    "\n",
    "```.py -> .pyc -> interpreter```\n",
    "## eval 函数\n",
    "```eval(statement, glob, local)```\n",
    "\n",
    "使用 eval 函数动态执行代码，返回执行的值："
   ]
  },
  {
   "cell_type": "code",
   "execution_count": 1,
   "metadata": {},
   "outputs": [
    {
     "data": {
      "text/plain": [
       "2"
      ]
     },
     "execution_count": 1,
     "metadata": {},
     "output_type": "execute_result"
    }
   ],
   "source": [
    "a = 1\n",
    "\n",
    "eval(\"a+1\")"
   ]
  },
  {
   "cell_type": "markdown",
   "metadata": {},
   "source": [
    "可以接收明明空间参数："
   ]
  },
  {
   "cell_type": "code",
   "execution_count": 2,
   "metadata": {},
   "outputs": [
    {
     "data": {
      "text/plain": [
       "3"
      ]
     },
     "execution_count": 2,
     "metadata": {},
     "output_type": "execute_result"
    }
   ],
   "source": [
    "local = dict(a=2)\n",
    "glob = {}\n",
    "eval(\"a+1\", glob, local)"
   ]
  },
  {
   "cell_type": "markdown",
   "metadata": {},
   "source": [
    "这里 local 中的 a 先被找到。\n",
    "\n",
    "## exec 函数\n",
    "```exec(statement, glob, local)```\n",
    "\n",
    "使用 exec 可以添加修改原有的变量。"
   ]
  },
  {
   "cell_type": "code",
   "execution_count": 4,
   "metadata": {},
   "outputs": [
    {
     "name": "stdout",
     "output_type": "stream",
     "text": [
      "2\n"
     ]
    }
   ],
   "source": [
    "a = 1\n",
    "\n",
    "exec(\"b = a+1\")\n",
    "\n",
    "print (b)"
   ]
  },
  {
   "cell_type": "code",
   "execution_count": 6,
   "metadata": {},
   "outputs": [
    {
     "name": "stdout",
     "output_type": "stream",
     "text": [
      "{'a': 2, 'b': 3}\n"
     ]
    }
   ],
   "source": [
    "local = dict(a=2)\n",
    "glob = {}\n",
    "exec(\"b = a+1\", glob, local)\n",
    "\n",
    "print (local)"
   ]
  },
  {
   "cell_type": "markdown",
   "metadata": {},
   "source": [
    "执行之后，b 在 local 命名空间中。\n",
    "\n",
    "## 警告\n",
    "动态执行的时候要注意，不要执行不信任的用户输入，因为它们拥有 Python 的全部权限。\n",
    "\n",
    "## compile 函数生成 byte code\n",
    "```compile(str, filename, mode)```"
   ]
  },
  {
   "cell_type": "code",
   "execution_count": null,
   "metadata": {},
   "outputs": [],
   "source": []
  }
 ],
 "metadata": {
  "kernelspec": {
   "display_name": "Python 3",
   "language": "python",
   "name": "python3"
  },
  "language_info": {
   "codemirror_mode": {
    "name": "ipython",
    "version": 3
   },
   "file_extension": ".py",
   "mimetype": "text/x-python",
   "name": "python",
   "nbconvert_exporter": "python",
   "pygments_lexer": "ipython3",
   "version": "3.7.6"
  }
 },
 "nbformat": 4,
 "nbformat_minor": 4
}
