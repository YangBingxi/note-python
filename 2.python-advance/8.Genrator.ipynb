{
 "cells": [
  {
   "cell_type": "markdown",
   "metadata": {
    "collapsed": true,
    "pycharm": {
     "name": "#%% md\n"
    }
   },
   "source": [
    "# 生成器\n",
    "while 循环通常有这样的形式：\n",
    "\n",
    "```\n",
    "<do setup>\n",
    "result = []\n",
    "while True:\n",
    "    <generate value>\n",
    "    result.append(value)\n",
    "    if <done>:\n",
    "        break\n",
    "```\n",
    "使用迭代器实现这样的循环：\n",
    "```\n",
    "class GenericIterator(object):\n",
    "    def __init__(self, ...):\n",
    "        <do setup>\n",
    "        # 需要额外储存状态\n",
    "        <store state>\n",
    "    def next(self): \n",
    "        <load state>\n",
    "        <generate value>\n",
    "        if <done>:\n",
    "            raise StopIteration()\n",
    "        <store state>\n",
    "        return value\n",
    "```\n",
    "更简单的，可以使用生成器：\n",
    "```\n",
    "def generator(...):\n",
    "    <do setup>\n",
    "    while True:\n",
    "        <generate value>\n",
    "        # yield 说明这个函数可以返回多个值！\n",
    "        yield value\n",
    "        if <done>:\n",
    "            break\n",
    "```\n",
    "生成器使用 yield 关键字将值输出，而迭代器则通过 next 的 return 将值返回；与迭代器不同的是，生成器会自动记录当前的状态，而迭代器则需要进行额外的操作来记录当前的状态。\n",
    "\n",
    "对于之前的 collatz 猜想，简单循环的实现如下："
   ]
  },
  {
   "cell_type": "code",
   "execution_count": 5,
   "outputs": [
    {
     "name": "stdout",
     "text": [
      "22\n11.0\n34.0\n17.0\n52.0\n26.0\n13.0\n40.0\n20.0\n10.0\n5.0\n16.0\n8.0\n4.0\n2.0\n1.0\n"
     ],
     "output_type": "stream"
    }
   ],
   "source": [
    "def collatz(n):\n",
    "    sequence = []\n",
    "    while n != 1:\n",
    "        if n % 2 == 0:\n",
    "            n /= 2\n",
    "        else:\n",
    "            n = 3*n + 1\n",
    "        sequence.append(n)\n",
    "    return sequence\n",
    "\n",
    "for x in collatz(7):\n",
    "    print (x)"
   ],
   "metadata": {
    "collapsed": false,
    "pycharm": {
     "name": "#%% \n",
     "is_executing": false
    }
   }
  },
  {
   "cell_type": "markdown",
   "source": [
    "迭代器的版本如下："
   ],
   "metadata": {
    "collapsed": false,
    "pycharm": {
     "name": "#%% md\n"
    }
   }
  },
  {
   "cell_type": "code",
   "execution_count": 7,
   "outputs": [
    {
     "traceback": [
      "\u001b[0;31m---------------------------------------------------------------------------\u001b[0m",
      "\u001b[0;31mTypeError\u001b[0m                                 Traceback (most recent call last)",
      "\u001b[0;32m<ipython-input-7-94f8b62c96a0>\u001b[0m in \u001b[0;36m<module>\u001b[0;34m()\u001b[0m\n\u001b[1;32m     15\u001b[0m         \u001b[0;32mreturn\u001b[0m \u001b[0mself\u001b[0m\u001b[0;34m.\u001b[0m\u001b[0mvalue\u001b[0m\u001b[0;34m\u001b[0m\u001b[0;34m\u001b[0m\u001b[0m\n\u001b[1;32m     16\u001b[0m \u001b[0;34m\u001b[0m\u001b[0m\n\u001b[0;32m---> 17\u001b[0;31m \u001b[0;32mfor\u001b[0m \u001b[0mx\u001b[0m \u001b[0;32min\u001b[0m \u001b[0mCollatz\u001b[0m\u001b[0;34m(\u001b[0m\u001b[0;36m7\u001b[0m\u001b[0;34m)\u001b[0m\u001b[0;34m:\u001b[0m\u001b[0;34m\u001b[0m\u001b[0;34m\u001b[0m\u001b[0m\n\u001b[0m\u001b[1;32m     18\u001b[0m     \u001b[0mprint\u001b[0m \u001b[0;34m(\u001b[0m\u001b[0mx\u001b[0m\u001b[0;34m)\u001b[0m\u001b[0;34m\u001b[0m\u001b[0;34m\u001b[0m\u001b[0m\n\u001b[1;32m     19\u001b[0m \u001b[0;34m\u001b[0m\u001b[0m\n",
      "\u001b[0;31mTypeError\u001b[0m: iter() returned non-iterator of type 'Collatz'"
     ],
     "ename": "TypeError",
     "evalue": "iter() returned non-iterator of type 'Collatz'",
     "output_type": "error"
    }
   ],
   "source": [
    "class Collatz(object):\n",
    "    def __init__(self, start):\n",
    "        self.value = start\n",
    "\n",
    "    def __iter__(self):\n",
    "        return self\n",
    "    \n",
    "    def next(self):\n",
    "        if self.value == 1:\n",
    "            raise StopIteration()\n",
    "        elif self.value % 2 == 0:\n",
    "            self.value = self.value/2\n",
    "        else:\n",
    "            self.value = 3*self.value + 1\n",
    "        return self.value\n",
    "\n",
    "for x in Collatz(7):\n",
    "    print (x)"
   ],
   "metadata": {
    "collapsed": false,
    "pycharm": {
     "name": "#%%\n",
     "is_executing": false
    }
   }
  },
  {
   "cell_type": "markdown",
   "source": [
    "生成器的版本如下："
   ],
   "metadata": {
    "collapsed": false,
    "pycharm": {
     "name": "#%% md\n"
    }
   }
  },
  {
   "cell_type": "code",
   "execution_count": null,
   "outputs": [],
   "source": [
    "def collatz(n):\n",
    "    while n != 1:\n",
    "        if n % 2 == 0:\n",
    "            n /= 2\n",
    "        else:\n",
    "            n = 3*n + 1\n",
    "        yield n\n",
    "\n",
    "for x in collatz(7):\n",
    "    print (x)\n",
    "    "
   ],
   "metadata": {
    "collapsed": false,
    "pycharm": {
     "name": "#%%\n"
    }
   }
  },
  {
   "cell_type": "markdown",
   "source": [
    "事实上，生成器也是一种迭代器："
   ],
   "metadata": {
    "collapsed": false,
    "pycharm": {
     "name": "#%% md\n"
    }
   }
  },
  {
   "cell_type": "code",
   "execution_count": 9,
   "outputs": [
    {
     "name": "stdout",
     "text": [
      "[22, 11.0, 34.0, 17.0, 52.0, 26.0, 13.0, 40.0, 20.0, 10.0, 5.0, 16.0, 8.0, 4.0, 2.0, 1.0]\n"
     ],
     "output_type": "stream"
    }
   ],
   "source": [
    "x = collatz(7)\n",
    "print (x)"
   ],
   "metadata": {
    "collapsed": false,
    "pycharm": {
     "name": "#%% \n",
     "is_executing": false
    }
   }
  },
  {
   "cell_type": "code",
   "execution_count": 11,
   "outputs": [
    {
     "traceback": [
      "\u001b[0;31m---------------------------------------------------------------------------\u001b[0m",
      "\u001b[0;31mAttributeError\u001b[0m                            Traceback (most recent call last)",
      "\u001b[0;32m<ipython-input-11-ee689b1d4d27>\u001b[0m in \u001b[0;36m<module>\u001b[0;34m()\u001b[0m\n\u001b[0;32m----> 1\u001b[0;31m \u001b[0mprint\u001b[0m\u001b[0;34m(\u001b[0m\u001b[0mx\u001b[0m\u001b[0;34m.\u001b[0m\u001b[0mnext\u001b[0m\u001b[0;34m(\u001b[0m\u001b[0;34m)\u001b[0m\u001b[0;34m)\u001b[0m\u001b[0;34m\u001b[0m\u001b[0;34m\u001b[0m\u001b[0m\n\u001b[0m\u001b[1;32m      2\u001b[0m \u001b[0mprint\u001b[0m \u001b[0;34m(\u001b[0m\u001b[0mx\u001b[0m\u001b[0;34m.\u001b[0m\u001b[0mnext\u001b[0m\u001b[0;34m(\u001b[0m\u001b[0;34m)\u001b[0m\u001b[0;34m)\u001b[0m\u001b[0;34m\u001b[0m\u001b[0;34m\u001b[0m\u001b[0m\n",
      "\u001b[0;31mAttributeError\u001b[0m: 'list' object has no attribute 'next'"
     ],
     "ename": "AttributeError",
     "evalue": "'list' object has no attribute 'next'",
     "output_type": "error"
    }
   ],
   "source": [
    "print (x.next())\n",
    "print (x.next())"
   ],
   "metadata": {
    "collapsed": false,
    "pycharm": {
     "name": "#%%\n",
     "is_executing": false
    }
   }
  },
  {
   "cell_type": "markdown",
   "source": [
    "__iter__ 方法返回的是它本身："
   ],
   "metadata": {
    "collapsed": false,
    "pycharm": {
     "name": "#%% md\n"
    }
   }
  },
  {
   "cell_type": "code",
   "execution_count": null,
   "outputs": [],
   "source": [
    "print x.__iter__()"
   ],
   "metadata": {
    "collapsed": false,
    "pycharm": {
     "name": "#%% \n"
    }
   }
  },
  {
   "cell_type": "markdown",
   "source": [
    "<generator object collatz at 0x0000000003B63750>\n",
    "之前的二叉树迭代器可以改写为更简单的生成器模式来进行中序遍历："
   ],
   "metadata": {
    "collapsed": false,
    "pycharm": {
     "name": "#%% md\n"
    }
   }
  },
  {
   "cell_type": "code",
   "execution_count": null,
   "outputs": [],
   "source": [
    "class BinaryTree(object):\n",
    "    def __init__(self, value, left=None, right=None):\n",
    "        self.value = value\n",
    "        self.left = left\n",
    "        self.right = right\n",
    "\n",
    "    def __iter__(self):\n",
    "        # 将迭代器设为生成器方法\n",
    "        return self.inorder()\n",
    "    \n",
    "    def inorder(self):\n",
    "        # traverse the left branch\n",
    "        if self.left is not None:\n",
    "            for value in self.left:\n",
    "                yield value\n",
    "                \n",
    "        # yield node's value\n",
    "        yield self.value\n",
    "        \n",
    "        # traverse the right branch\n",
    "        if self.right is not None:\n",
    "            for value in self.right:\n",
    "                yield value"
   ],
   "metadata": {
    "collapsed": false,
    "pycharm": {
     "name": "#%% \n"
    }
   }
  },
  {
   "cell_type": "markdown",
   "source": [
    "非递归的实现："
   ],
   "metadata": {
    "collapsed": false,
    "pycharm": {
     "name": "#%% md\n"
    }
   }
  },
  {
   "cell_type": "code",
   "execution_count": 12,
   "outputs": [
    {
     "traceback": [
      "\u001b[0;31m---------------------------------------------------------------------------\u001b[0m",
      "\u001b[0;31mNameError\u001b[0m                                 Traceback (most recent call last)",
      "\u001b[0;32m<ipython-input-12-1b718d3a8e53>\u001b[0m in \u001b[0;36m<module>\u001b[0;34m()\u001b[0m\n\u001b[1;32m      9\u001b[0m         \u001b[0;32myield\u001b[0m \u001b[0mnode\u001b[0m\u001b[0;34m.\u001b[0m\u001b[0mvalue\u001b[0m\u001b[0;34m\u001b[0m\u001b[0;34m\u001b[0m\u001b[0m\n\u001b[1;32m     10\u001b[0m         \u001b[0mnode\u001b[0m \u001b[0;34m=\u001b[0m \u001b[0mnode\u001b[0m\u001b[0;34m.\u001b[0m\u001b[0mright\u001b[0m\u001b[0;34m\u001b[0m\u001b[0;34m\u001b[0m\u001b[0m\n\u001b[0;32m---> 11\u001b[0;31m tree = BinaryTree(\n\u001b[0m\u001b[1;32m     12\u001b[0m     left=BinaryTree(\n\u001b[1;32m     13\u001b[0m         \u001b[0mleft\u001b[0m\u001b[0;34m=\u001b[0m\u001b[0mBinaryTree\u001b[0m\u001b[0;34m(\u001b[0m\u001b[0;36m1\u001b[0m\u001b[0;34m)\u001b[0m\u001b[0;34m,\u001b[0m\u001b[0;34m\u001b[0m\u001b[0;34m\u001b[0m\u001b[0m\n",
      "\u001b[0;31mNameError\u001b[0m: name 'BinaryTree' is not defined"
     ],
     "ename": "NameError",
     "evalue": "name 'BinaryTree' is not defined",
     "output_type": "error"
    }
   ],
   "source": [
    "def inorder(self):\n",
    "    node = self\n",
    "    stack = []\n",
    "    while len(stack) > 0 or node is not None:\n",
    "        while node is not None:\n",
    "            stack.append(node)\n",
    "            node = node.left\n",
    "        node = stack.pop()\n",
    "        yield node.value\n",
    "        node = node.right\n",
    "tree = BinaryTree(\n",
    "    left=BinaryTree(\n",
    "        left=BinaryTree(1),\n",
    "        value=2,\n",
    "        right=BinaryTree(\n",
    "            left=BinaryTree(3),\n",
    "            value=4,\n",
    "            right=BinaryTree(5)\n",
    "        ),\n",
    "    ),\n",
    "    value=6,\n",
    "    right=BinaryTree(\n",
    "        value=7,\n",
    "        right=BinaryTree(8)\n",
    "    )\n",
    ")\n",
    "for value in tree:\n",
    "    print (value)"
   ],
   "metadata": {
    "collapsed": false,
    "pycharm": {
     "name": "#%%\n",
     "is_executing": false
    }
   }
  }
 ],
 "metadata": {
  "kernelspec": {
   "display_name": "Python 3",
   "language": "python",
   "name": "python3"
  },
  "language_info": {
   "codemirror_mode": {
    "name": "ipython",
    "version": 2
   },
   "file_extension": ".py",
   "mimetype": "text/x-python",
   "name": "python",
   "nbconvert_exporter": "python",
   "pygments_lexer": "ipython2",
   "version": "2.7.6"
  },
  "pycharm": {
   "stem_cell": {
    "cell_type": "raw",
    "source": [],
    "metadata": {
     "collapsed": false
    }
   }
  }
 },
 "nbformat": 4,
 "nbformat_minor": 0
}