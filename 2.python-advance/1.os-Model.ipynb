{
 "cells": [
  {
   "cell_type": "markdown",
   "metadata": {
    "collapsed": true,
    "pycharm": {
     "name": "#%% md\n"
    }
   },
   "source": [
    "# os Model"
   ]
  },
  {
   "cell_type": "code",
   "execution_count": 1,
   "outputs": [],
   "source": [
    "import os"
   ],
   "metadata": {
    "collapsed": false,
    "pycharm": {
     "name": "#%% \n",
     "is_executing": false
    }
   }
  },
  {
   "cell_type": "markdown",
   "source": [
    "## file path option\n",
    "- ```os.remove(path)```:remove the file\n",
    "- ```os.removedirs(path)```:remove the fold\n",
    "- ```os.chdir(path)```:change the workplace to path\n",
    "- ```os.getcwd()```:get path at now\n",
    "- ```os.rename(old,new)```:rename file\n",
    "- ```os.renames(old,new)```:rename file,if fold is not exist,create it.\n",
    "- ```os.listdir(path)```:list the element in the path\n",
    "- ```os.mkdir(name)```:create new fold\n",
    "\n",
    "## system constant"
   ],
   "metadata": {
    "collapsed": false,
    "pycharm": {
     "name": "#%% md\n"
    }
   }
  },
  {
   "cell_type": "code",
   "execution_count": 2,
   "outputs": [
    {
     "data": {
      "text/plain": "'\\n'"
     },
     "metadata": {},
     "output_type": "execute_result",
     "execution_count": 2
    }
   ],
   "source": [
    "# 当前操作系统的换行符：\n",
    "os.linesep"
   ],
   "metadata": {
    "collapsed": false,
    "pycharm": {
     "name": "#%%\n",
     "is_executing": false
    }
   }
  },
  {
   "cell_type": "code",
   "execution_count": 3,
   "outputs": [
    {
     "data": {
      "text/plain": "'/'"
     },
     "metadata": {},
     "output_type": "execute_result",
     "execution_count": 3
    }
   ],
   "source": [
    "# 当前操作系统的路径分隔符：\n",
    "os.sep"
   ],
   "metadata": {
    "collapsed": false,
    "pycharm": {
     "name": "#%%\n",
     "is_executing": false
    }
   }
  },
  {
   "cell_type": "code",
   "execution_count": 4,
   "outputs": [
    {
     "data": {
      "text/plain": "':'"
     },
     "metadata": {},
     "output_type": "execute_result",
     "execution_count": 4
    }
   ],
   "source": [
    "# 当前操作系统的环境变量中的分隔符（';' 或 ':'）：\n",
    "\n",
    "os.pathsep"
   ],
   "metadata": {
    "collapsed": false,
    "pycharm": {
     "name": "#%%\n",
     "is_executing": false
    }
   }
  },
  {
   "cell_type": "markdown",
   "source": [
    "## others\n",
    "```os.environ``` 是一个存储所有环境变量的值的字典，可以修改。"
   ],
   "metadata": {
    "collapsed": false,
    "pycharm": {
     "name": "#%% md\n"
    }
   }
  },
  {
   "cell_type": "code",
   "execution_count": 5,
   "outputs": [
    {
     "data": {
      "text/plain": "'swyoung'"
     },
     "metadata": {},
     "output_type": "execute_result",
     "execution_count": 5
    }
   ],
   "source": [
    "os.environ[\"USER\"]"
   ],
   "metadata": {
    "collapsed": false,
    "pycharm": {
     "name": "#%%\n",
     "is_executing": false
    }
   }
  },
  {
   "cell_type": "markdown",
   "source": [
    "os.urandom(len) 返回指定长度的随机字节。\n",
    "\n",
    "### os.path 模块\n",
    "不同的操作系统使用不同的路径规范，这样当我们在不同的操作系统下进行操作时，可能会带来一定的麻烦，而 os.path 模块则帮我们解决了这个问题。"
   ],
   "metadata": {
    "collapsed": false,
    "pycharm": {
     "name": "#%% md\n"
    }
   }
  },
  {
   "cell_type": "code",
   "execution_count": 6,
   "outputs": [],
   "source": [
    "import os.path"
   ],
   "metadata": {
    "collapsed": false,
    "pycharm": {
     "name": "#%%\n",
     "is_executing": false
    }
   }
  },
  {
   "cell_type": "markdown",
   "source": [
    "测试\n",
    "- ```os.path.isfile(path)``` ：检测一个路径是否为普通文件\n",
    "- ```os.path.isdir(path)```：检测一个路径是否为文件夹\n",
    "- ```os.path.exists(path)```：检测路径是否存在\n",
    "- ```os.path.isabs(path)```：检测路径是否为绝对路径\n",
    "### split 和 join\n",
    "```os.path.split(path)```：拆分一个路径为 (head, tail) 两部分\n",
    "```os.path.join(a, *p)```：使用系统的路径分隔符，将各个部分合成一个路径\n",
    "### 其他\n",
    "- ```os.path.abspath()```：返回路径的绝对路径\n",
    "- ```os.path.dirname(path)```：返回路径中的文件夹部分\n",
    "- ```os.path.basename(path)```：返回路径中的文件部分\n",
    "- ```os.path.splitext(path)```：将路径与扩展名分开\n",
    "- ```os.path.expanduser(path)```：展开 '~' 和 '~user'\n",
    "\n",
    "\n"
   ],
   "metadata": {
    "collapsed": false,
    "pycharm": {
     "name": "#%% md\n"
    }
   }
  }
 ],
 "metadata": {
  "kernelspec": {
   "display_name": "Python 3",
   "language": "python",
   "name": "python3"
  },
  "language_info": {
   "codemirror_mode": {
    "name": "ipython",
    "version": 2
   },
   "file_extension": ".py",
   "mimetype": "text/x-python",
   "name": "python",
   "nbconvert_exporter": "python",
   "pygments_lexer": "ipython2",
   "version": "2.7.6"
  },
  "pycharm": {
   "stem_cell": {
    "cell_type": "raw",
    "source": [],
    "metadata": {
     "collapsed": false
    }
   }
  }
 },
 "nbformat": 4,
 "nbformat_minor": 0
}