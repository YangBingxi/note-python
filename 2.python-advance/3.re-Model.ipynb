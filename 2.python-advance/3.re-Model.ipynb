{
 "cells": [
  {
   "cell_type": "markdown",
   "metadata": {
    "collapsed": true,
    "pycharm": {
     "name": "#%% md\n"
    }
   },
   "source": [
    "# re-Model"
   ]
  },
  {
   "cell_type": "code",
   "source": [
    "import re\n",
    "\n",
    "\n",
    "\n"
   ],
   "metadata": {
    "collapsed": false,
    "pycharm": {
     "name": "#%% \n",
     "is_executing": false
    }
   },
   "execution_count": 1,
   "outputs": []
  },
  {
   "cell_type": "markdown",
   "source": [
    "### re.match&&re.search\n",
    "\n",
    "在 ```re``` 模块中， ```re.match``` 和 ```re.search``` 是常用的两个方法：\n",
    "\n",
    "```re.match(pattern, string[, flags])```\n",
    "```re.search(pattern, string[, flags])```\n",
    "\n",
    "两者都寻找第一个匹配成功的部分，成功则返回一个 ```match``` 对象，不成功则返回 ```None```，不同之处在于 ```re.match``` 只匹配字符串的开头部分，而 ```re.search```` 匹配的则是整个字符串中的子串。\n",
    "\n",
    "\n",
    "### re.findall & re.finditer\n",
    "```re.findall(pattern, string)``` 返回所有匹配的对象， re.finditer 则返回一个迭代器。\n",
    "\n",
    "### re.split\n",
    "```re.split(pattern, string[, maxsplit])``` 按照 ```pattern``` 指定的内容对字符串进行分割。\n",
    "\n",
    "### re.sub\n",
    "```re.sub(pattern, repl, string[, count])``` 将 pattern 匹配的内容进行替换。\n",
    "\n",
    "### re.compile\n",
    "```re.compile(pattern)``` 生成一个 ```pattern``` 对象，这个对象有匹配，替换，分割字符串的方法。\n",
    "\n",
    "## 正则表达式规则\n",
    "正则表达式由一些普通字符和一些元字符（metacharacters）组成。普通字符包括大小写的字母和数字，而元字符则具有特殊的含义：\n",
    "\n",
    "子表达式\t| 匹配内容\n",
    "--- | ---\n",
    ".\t| 匹配除了换行符之外的内容\n",
    "\\w\t| 匹配所有字母和数字字符\n",
    "\\d\t| 匹配所有数字，相当于 [0-9]\n",
    "\\s\t| 匹配空白，相当于 [\\t\\n\\t\\f\\v]\n",
    "\\W,\\D,\\S\t| 匹配对应小写字母形式的补\n",
    "[...]\t| 表示可以匹配的集合，支持范围表示如 a-z, 0-9 等\n",
    "(...)\t | 表示作为一个整体进行匹配\n",
    "¦\t| 表示逻辑或\n",
    "^\t| 表示匹配后面的子表达式的补\n",
    "*\t| 表示匹配前面的子表达式 0 次或更多次\n",
    "+\t| 表示匹配前面的子表达式 1 次或更多次\n",
    "?\t| 表示匹配前面的子表达式 0 次或 1 次\n",
    "{m}\t| 表示匹配前面的子表达式 m 次\n",
    "{m,}\t| 表示匹配前面的子表达式至少 m 次\n",
    "{m,n}\t| 表示匹配前面的子表达式至少 m 次，至多 n 次\n",
    "**例如：**\n",
    "\n",
    "ca*t       匹配： ct, cat, caaaat, ...\n",
    "ab\\d|ac\\d  匹配： ab1, ac9, ...\n",
    "([^a-q]bd) 匹配： rbd, 5bd, ...\n",
    "\n",
    "\n",
    "## 例子\n",
    "假设我们要匹配这样的字符串："
   ],
   "metadata": {
    "collapsed": false,
    "pycharm": {
     "name": "#%% md\n"
    }
   }
  },
  {
   "cell_type": "code",
   "execution_count": 8,
   "outputs": [],
   "source": [
    "string = \"hello world\"\n",
    "pattren = \"hello(\\w+)\"\n",
    "match = re.match(pattren,string)"
   ],
   "metadata": {
    "collapsed": false,
    "pycharm": {
     "name": "#%% \n",
     "is_executing": false
    }
   }
  },
  {
   "cell_type": "code",
   "execution_count": 9,
   "outputs": [],
   "source": [
    "if match is not None:\n",
    "    print(match.group(0))"
   ],
   "metadata": {
    "collapsed": false,
    "pycharm": {
     "name": "#%%\n",
     "is_executing": false
    }
   }
  },
  {
   "cell_type": "code",
   "execution_count": null,
   "outputs": [],
   "source": [
    "\n"
   ],
   "metadata": {
    "collapsed": false,
    "pycharm": {
     "name": "#%%\n"
    }
   }
  }
 ],
 "metadata": {
  "kernelspec": {
   "display_name": "Python 3",
   "language": "python",
   "name": "python3"
  },
  "language_info": {
   "codemirror_mode": {
    "name": "ipython",
    "version": 2
   },
   "file_extension": ".py",
   "mimetype": "text/x-python",
   "name": "python",
   "nbconvert_exporter": "python",
   "pygments_lexer": "ipython2",
   "version": "2.7.6"
  },
  "pycharm": {
   "stem_cell": {
    "cell_type": "raw",
    "source": [],
    "metadata": {
     "collapsed": false
    }
   }
  }
 },
 "nbformat": 4,
 "nbformat_minor": 0
}