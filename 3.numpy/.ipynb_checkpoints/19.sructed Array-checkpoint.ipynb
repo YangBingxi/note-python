{
 "cells": [
  {
   "cell_type": "markdown",
   "metadata": {},
   "source": [
    "# 结构化数组\n",
    "假设我们要保存这样的数据：\n",
    "\n",
    "\n",
    "name|age|wgt\n",
    "---|---|---\n",
    "0|dan|1|23.1\n",
    "1|ann|0|25.1\n",
    "2|san|2|8.3\n",
    "\n",
    "希望定义一个一维数组，每个元素有三个属性，name、age、wgt，此时我们需要使用结构话数组。"
   ]
  },
  {
   "cell_type": "code",
   "execution_count": 1,
   "metadata": {},
   "outputs": [],
   "source": [
    "import numpy as np"
   ]
  },
  {
   "cell_type": "markdown",
   "metadata": {},
   "source": [
    "定义数组a\n",
    "\n",
    "0|1|2|3\n",
    "---|--|---|---\n",
    "1.0|2.0|3.0|4.0"
   ]
  },
  {
   "cell_type": "code",
   "execution_count": 2,
   "metadata": {},
   "outputs": [],
   "source": [
    "a = np.array([1.0,2.0,3.0,4.0],np.float32)"
   ]
  },
  {
   "cell_type": "code",
   "execution_count": null,
   "metadata": {},
   "outputs": [],
   "source": []
  }
 ],
 "metadata": {
  "kernelspec": {
   "display_name": "Python 3",
   "language": "python",
   "name": "python3"
  },
  "language_info": {
   "codemirror_mode": {
    "name": "ipython",
    "version": 3
   },
   "file_extension": ".py",
   "mimetype": "text/x-python",
   "name": "python",
   "nbconvert_exporter": "python",
   "pygments_lexer": "ipython3",
   "version": "3.7.6"
  }
 },
 "nbformat": 4,
 "nbformat_minor": 4
}
