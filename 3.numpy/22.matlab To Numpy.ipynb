{
 "cells": [
  {
   "cell_type": "markdown",
   "metadata": {},
   "source": [
    "# 从 Matlab 到 Numpy\n",
    "##Numpy  和 Matlab 比较\n",
    "\n",
    "**`Numpy`** 和 **`Matlab`** 有很多相似的地方，但 **`Numpy`** 并非 **`Matlab`** 的克隆，它们之间存在很多差异，例如：\n",
    "\n",
    "`MATLAB®`|`Numpy`\n",
    "---|---\n",
    "基本类型为双精度浮点数组，以二维矩阵为主 | 基本类型为 `ndarray`，有特殊的 `matrix` 类\n",
    "1-based 索引 | 0-based 索引\n",
    "脚本主要用于线性代数计算 | 可以使用其他的 **Python** 特性 \n",
    "采用值传递的方式进行计算<br>切片返回复制 | 采用引用传递的方式进行计算<br>切片返回引用\n",
    "文件名必须和函数名相同 | 函数可以在任何地方任何文件中定义\n",
    "收费 | 免费\n",
    "2D，3D图像支持 | 依赖第三方库如 `matplotlib` 等\n",
    "完全的编译环境 | 依赖于 **Python** 提供的编译环境\n",
    "\n",
    "## array 还是 matrix？\n",
    "`Numpy` 中不仅提供了 `array` 这个基本类型，还提供了支持矩阵操作的类 `matrix`，但是一般推荐使用 `array`：\n",
    "\n",
    "- 很多 `numpy` 函数返回的是 `array`，不是 `matrix`\n",
    "- 在 `array` 中，逐元素操作和矩阵操作有着明显的不同\n",
    "- 向量可以不被视为矩阵\n",
    "\n",
    "具体说来：\n",
    "\n",
    "- `*， dot(), multiply()`\n",
    "    - `array`：`*` -逐元素乘法，`dot()` -矩阵乘法\n",
    "    - `matrix`：`*` -矩阵乘法，`multiply()` -逐元素乘法\n",
    "- 处理向量 \n",
    "    - `array`：形状为 `1xN, Nx1, N` 的向量的意义是不同的，类似于 `A[:,1]` 的操作返回的是一维数组，形状为 `N`，一维数组的转置仍是自己本身\n",
    "    - `matrix`：形状为 `1xN, Nx1`，`A[:,1]` 返回的是二维 `Nx1` 矩阵\n",
    "- 高维数组\n",
    "    - `array`：支持大于2的维度\n",
    "    - `matrix`：维度只能为2\n",
    "- 属性\n",
    "    - `array`：`.T` 表示转置\n",
    "    - `matrix`：`.H` 表示复共轭转置，`.I` 表示逆，`.A` 表示转化为 `array` 类型\n",
    "- 构造函数\n",
    "    - `array`：`array` 函数接受一个（嵌套）序列作为参数——`array([[1,2,3],[4,5,6]])`\n",
    "    - `matrix`：`matrix` 函数额外支持字符串参数——`matrix(\"[1 2 3; 4 5 6]\")`\n",
    "\n",
    "其优缺点各自如下：\n",
    "\n",
    "- **`array`**\n",
    "    - `[GOOD]` 一维数组既可以看成列向量，也可以看成行向量。`v` 在 `dot(A,v)` 被看成列向量，在 `dot(v,A)` 中被看成行向量，这样省去了转置的麻烦\n",
    "    - `[BAD!]` 矩阵乘法需要使用 `dot()` 函数，如： `dot(dot(A,B),C)` vs `A*B*C`\n",
    "    - `[GOOD]` 逐元素乘法很简单： `A*B`\n",
    "    - `[GOOD]` 作为基本类型，是很多基于 `numpy` 的第三方库函数的返回类型\n",
    "    - `[GOOD]` 所有的操作 `*,/,+,**,...` 都是逐元素的\n",
    "    - `[GOOD]` 可以处理任意维度的数据\n",
    "    - `[GOOD]` 张量运算\n",
    "- **`matrix`**\n",
    "    - `[GOOD]` 类似与 **`MATLAB`** 的操作\n",
    "    - `[BAD!]` 最高维度为2\n",
    "    - `[BAD!]` 最低维度也为2\n",
    "    - `[BAD!]` 很多函数返回的是 `array`，即使传入的参数是 `matrix`\n",
    "    - `[GOOD]` `A*B` 是矩阵乘法\n",
    "    - `[BAD!]` 逐元素乘法需要调用 `multiply` 函数\n",
    "    - `[BAD!]` `/` 是逐元素操作\n",
    "\n",
    "当然在实际使用中，二者的使用取决于具体情况。\n",
    "\n",
    "二者可以互相转化：\n",
    "\n",
    "- `asarray` ：返回数组\n",
    "- `asmatrix`（或者`mat`） ：返回矩阵\n",
    "- `asanyarray` ：返回数组或者数组的子类，注意到矩阵是数组的一个子类，所以输入是矩阵的时候返回的也是矩阵\n",
    "\n",
    "## 类 Matlab 函数\n",
    "有很多类似的函数：\n",
    "\n",
    "- `ones, zeros, empty, eye, rand, repmat`\n",
    "\n",
    "通常这些函数的返回值是 `array`，不过 `numpy` 提供了一个 `matlib` 的子模块，子模块中的这些函数返回值为 `matrix`："
   ]
  },
  {
   "cell_type": "code",
   "execution_count": 1,
   "metadata": {},
   "outputs": [],
   "source": [
    "import numpy\n",
    "import numpy.matlib"
   ]
  },
  {
   "cell_type": "code",
   "execution_count": 4,
   "metadata": {},
   "outputs": [
    {
     "name": "stdout",
     "output_type": "stream",
     "text": [
      "(7,)\n",
      "<class 'numpy.ndarray'>\n"
     ]
    }
   ],
   "source": [
    "a = numpy.ones(7)\n",
    "\n",
    "print (a.shape)\n",
    "print (type(a))"
   ]
  },
  {
   "cell_type": "code",
   "execution_count": 6,
   "metadata": {},
   "outputs": [
    {
     "name": "stdout",
     "output_type": "stream",
     "text": [
      "(1, 7)\n",
      "<class 'numpy.matrix'>\n"
     ]
    }
   ],
   "source": [
    "a = numpy.matlib.ones(7)\n",
    "\n",
    "print (a.shape)\n",
    "print (type(a))"
   ]
  },
  {
   "cell_type": "markdown",
   "metadata": {},
   "source": [
    "mat 函数将一个数组转化为矩阵：\n"
   ]
  },
  {
   "cell_type": "code",
   "execution_count": 8,
   "metadata": {},
   "outputs": [
    {
     "name": "stdout",
     "output_type": "stream",
     "text": [
      "<class 'numpy.matrix'>\n"
     ]
    }
   ],
   "source": [
    "a = numpy.array([1,2,3])\n",
    "\n",
    "b = numpy.mat(a)\n",
    "\n",
    "print (type(b))"
   ]
  },
  {
   "cell_type": "markdown",
   "metadata": {},
   "source": [
    "有些函数被放到子模块中了，例如调用 rand() 函数需要使用 numpy.random.rand() （或者从 matlib 模块中生成矩阵）：\n"
   ]
  },
  {
   "cell_type": "code",
   "execution_count": 10,
   "metadata": {},
   "outputs": [
    {
     "name": "stdout",
     "output_type": "stream",
     "text": [
      "[0.92914312 0.66120393 0.82189635 0.35840056 0.32143094 0.82359327\n",
      " 0.17064731 0.68466643 0.99518899 0.06970433]\n"
     ]
    }
   ],
   "source": [
    "a = numpy.random.rand(10)\n",
    "print (a)"
   ]
  },
  {
   "cell_type": "markdown",
   "metadata": {},
   "source": [
    "## 等效操作\n",
    "\n",
    "假定我们已经这样导入了 Numpy：\n"
   ]
  },
  {
   "cell_type": "code",
   "execution_count": 12,
   "metadata": {},
   "outputs": [],
   "source": [
    "from numpy import *\n",
    "import scipy.linalg"
   ]
  },
  {
   "cell_type": "code",
   "execution_count": null,
   "metadata": {},
   "outputs": [],
   "source": []
  }
 ],
 "metadata": {
  "kernelspec": {
   "display_name": "Python 3",
   "language": "python",
   "name": "python3"
  },
  "language_info": {
   "codemirror_mode": {
    "name": "ipython",
    "version": 3
   },
   "file_extension": ".py",
   "mimetype": "text/x-python",
   "name": "python",
   "nbconvert_exporter": "python",
   "pygments_lexer": "ipython3",
   "version": "3.7.6"
  }
 },
 "nbformat": 4,
 "nbformat_minor": 4
}
