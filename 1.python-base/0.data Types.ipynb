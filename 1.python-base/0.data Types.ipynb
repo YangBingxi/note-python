{
 "cells": [
  {
   "cell_type": "markdown",
   "metadata": {
    "collapsed": true,
    "pycharm": {
     "name": "#%% md\n"
    }
   },
   "source": [
    "# Python data types\n",
    "## 常用数据类型 Common Data Types\n",
    "类型\t| 例子\n",
    "--- | --- \n",
    "整数\t| -100\n",
    "浮点数\t| 3.1416\n",
    "字符串\t| 'hello'\n",
    "列表\t| [1, 1.2, 'hello']\n",
    "字典\t| {'dogs': 5, 'pigs': 3}\n",
    "Numpy数组\t| array([1, 2, 3])\n",
    "\n",
    "## 其他类型 Others\n",
    "类型\t| 例子\n",
    "--- | ---\n",
    "长整型\t| 1000000000000L\n",
    "布尔型\t| True, False\n",
    "元组\t| ('ring', 1000)\n",
    "集合\t| {1, 2, 3}\n",
    "Pandas类型\t| DataFrame, Series\n",
    "自定义\t| Object Oriented Classes\n",
    "\n",
    "\n"
   ]
  }
 ],
 "metadata": {
  "kernelspec": {
   "display_name": "Python 3",
   "language": "python",
   "name": "python3"
  },
  "language_info": {
   "codemirror_mode": {
    "name": "ipython",
    "version": 2
   },
   "file_extension": ".py",
   "mimetype": "text/x-python",
   "name": "python",
   "nbconvert_exporter": "python",
   "pygments_lexer": "ipython2",
   "version": "2.7.6"
  },
  "pycharm": {
   "stem_cell": {
    "cell_type": "raw",
    "source": [],
    "metadata": {
     "collapsed": false
    }
   }
  }
 },
 "nbformat": 4,
 "nbformat_minor": 0
}